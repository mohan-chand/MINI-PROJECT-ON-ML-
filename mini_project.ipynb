{
  "nbformat": 4,
  "nbformat_minor": 0,
  "metadata": {
    "colab": {
      "name": "mini project.ipynb",
      "provenance": []
    },
    "kernelspec": {
      "name": "python3",
      "display_name": "Python 3"
    },
    "language_info": {
      "name": "python"
    }
  },
  "cells": [
    {
      "cell_type": "markdown",
      "metadata": {
        "id": "dHiOyZcwSMo8"
      },
      "source": [
        "Naive Bayes:"
      ]
    },
    {
      "cell_type": "code",
      "metadata": {
        "colab": {
          "base_uri": "https://localhost:8080/"
        },
        "id": "ltTVCqgQR8Gi",
        "outputId": "0a3a27fc-7722-4056-db6e-e6e3fdfed171"
      },
      "source": [
        "import numpy as np\n",
        "import matplotlib.pyplot as plt\n",
        "import pandas as pd\n",
        "dataset = pd.read_csv('/content/pima-indians-diabetes.csv')\n",
        "X = dataset.iloc[:, 0:7].values\n",
        "y = dataset.iloc[:, 8].values\n",
        "from sklearn.model_selection import train_test_split\n",
        "X_train, X_test, y_train, y_test = train_test_split(X, y, test_size = 0.20, random_state = 32)\n",
        "# Feature Scaling\n",
        "from sklearn.preprocessing import StandardScaler\n",
        "sc = StandardScaler()\n",
        "X_train = sc.fit_transform(X_train)\n",
        "X_test = sc.transform(X_test)\n",
        "# Training the Naive Bayes model on the Training set\n",
        "from sklearn.naive_bayes import GaussianNB\n",
        "classifier = GaussianNB()\n",
        "classifier.fit(X_train, y_train)\n",
        "# Predicting the Test set results\n",
        "y_pred = classifier.predict(X_test)\n",
        "print(\"The predictions after testing are:\",y_pred)\n",
        "# Making the Confusion Matrix\n",
        "from sklearn.metrics import confusion_matrix, accuracy_score,recall_score,precision_score\n",
        "nb_ac = accuracy_score(y_test,y_pred)*100\n",
        "print(\"Accuracy:\",nb_ac)\n",
        "cm = confusion_matrix(y_test, y_pred)\n",
        "print(\"Confusion matrix:\")\n",
        "print(cm)\n",
        "\n"
      ],
      "execution_count": null,
      "outputs": [
        {
          "output_type": "stream",
          "name": "stdout",
          "text": [
            "The predictions after testing are: [1 1 0 0 1 0 0 0 0 1 0 0 1 0 0 0 0 0 0 1 0 0 1 1 0 0 0 0 0 0 0 1 0 0 0 0 1\n",
            " 1 0 0 1 1 0 1 0 0 1 0 1 0 0 1 0 0 0 1 1 1 1 0 0 0 0 0 1 0 0 0 0 1 0 0 1 0\n",
            " 1 0 0 0 0 1 0 1 0 0 0 1 1 0 0 1 1 0 1 1 1 0 0 1 0 0 0 0 0 0 1 0 0 0 0 1 0\n",
            " 1 0 0 0 0 0 0 0 0 0 0 0 0 0 0 1 1 1 0 0 0 1 1 0 1 0 0 0 0 1 0 1 0 0 1 0 0\n",
            " 0 1 1 0 1 0]\n",
            "Accuracy: 74.67532467532467\n",
            "Confusion matrix:\n",
            "[[79 14]\n",
            " [25 36]]\n"
          ]
        }
      ]
    },
    {
      "cell_type": "markdown",
      "metadata": {
        "id": "Zw0jTgMaSbzf"
      },
      "source": [
        "K-nearest neighbors algorithm"
      ]
    },
    {
      "cell_type": "code",
      "metadata": {
        "colab": {
          "base_uri": "https://localhost:8080/",
          "height": 381
        },
        "id": "cKHe4b0lShw_",
        "outputId": "c5539f63-e757-434f-dbb6-801e6be52c10"
      },
      "source": [
        "# Import necessary modules\n",
        "from sklearn.neighbors import KNeighborsClassifier\n",
        "from sklearn.model_selection import train_test_split\n",
        "import pandas as pd\n",
        "# Loading data\n",
        "dataset = pd.read_csv('/content/pima-indians-diabetes.csv')\n",
        "# Create feature and target arrays\n",
        "X = dataset.iloc[:, 0:7].values\n",
        "y = dataset.iloc[:, 8].values\n",
        "# Split into training and test set\n",
        "X_train, X_test, y_train, y_test = train_test_split(X, y, test_size = 0.2,random_state=32)\n",
        "knn = KNeighborsClassifier(n_neighbors=7)\n",
        "knn.fit(X_train, y_train)\n",
        "# Predict on dataset which model has not seen before\n",
        "print(\"Predictions for test data set are:\",knn.predict(X_test))\n",
        "# Calculate the accuracy of the model\n",
        "knn_ac=knn.score(X_test, y_test)*100\n",
        "print(\"Accuracy:\",knn_ac)\n",
        "# Import necessary modules\n",
        "import numpy as np\n",
        "import matplotlib.pyplot as plt\n",
        "neighbors = np.arange(1, 11)\n",
        "train_accuracy = np.empty(len(neighbors))\n",
        "test_accuracy = np.empty(len(neighbors))\n",
        "# Loop over K values\n",
        "for i, k in enumerate(neighbors):\n",
        "  knn = KNeighborsClassifier(n_neighbors=k)\n",
        "  knn.fit(X_train, y_train)\n",
        "# Compute traning and test data accuracy\n",
        "  train_accuracy[i] = knn.score(X_train, y_train)\n",
        "  test_accuracy[i] = knn.score(X_test, y_test)\n",
        "# Generate plot\n",
        "plt.plot(neighbors, test_accuracy, label = 'Testing dataset Accuracy',color='k')\n",
        "plt.plot(neighbors, train_accuracy, label = 'Training dataset Accuracy',color='g')\n",
        "plt.legend()\n",
        "plt.xlabel('n_neighbors')\n",
        "plt.ylabel('Accuracy')\n",
        "plt.show()\n",
        "\n"
      ],
      "execution_count": null,
      "outputs": [
        {
          "output_type": "stream",
          "name": "stdout",
          "text": [
            "Predictions for test data set are: [0 1 0 0 1 0 0 0 0 1 0 0 1 1 0 0 0 0 0 0 0 0 1 0 0 0 0 0 0 0 0 0 0 0 0 0 1\n",
            " 0 1 0 1 1 0 1 0 0 1 1 1 1 0 0 0 0 0 0 0 0 1 0 0 1 0 0 1 0 0 0 0 1 0 0 0 0\n",
            " 1 0 0 0 0 0 0 1 0 0 0 0 0 0 0 1 1 1 1 1 0 0 0 1 0 0 0 0 0 0 0 0 0 1 0 0 0\n",
            " 0 0 0 0 0 1 0 0 0 0 0 0 0 0 0 1 0 1 1 0 1 1 0 0 1 0 0 0 0 1 0 1 0 0 1 0 0\n",
            " 0 0 0 0 1 0]\n",
            "Accuracy: 71.42857142857143\n"
          ]
        },
        {
          "output_type": "display_data",
          "data": {
            "image/png": "[encoded data removed]",
            "text/plain": [
              "<Figure size 432x288 with 1 Axes>"
            ]
          },
          "metadata": {
            "needs_background": "light"
          }
        }
      ]
    },
    {
      "cell_type": "markdown",
      "metadata": {
        "id": "Y-874znkTD76"
      },
      "source": [
        "SVM classifier:"
      ]
    },
    {
      "cell_type": "code",
      "metadata": {
        "colab": {
          "base_uri": "https://localhost:8080/"
        },
        "id": "EyIxoyuVTDqp",
        "outputId": "2768fdb4-0652-458b-ea06-a4e5dd33d273"
      },
      "source": [
        "# Importing the libraries\n",
        "import numpy as np\n",
        "import matplotlib.pyplot as plt\n",
        "import pandas as pd\n",
        "from sklearn.metrics import accuracy_score\n",
        "from sklearn.metrics import precision_score\n",
        "from sklearn.metrics import recall_score\n",
        "from sklearn.metrics import confusion_matrix\n",
        "# Importing the dataset\n",
        "dataset = pd.read_csv('/content/pima-indians-diabetes.csv')\n",
        "X = dataset.iloc[:, 0:7].values\n",
        "y = dataset.iloc[:, 8].values\n",
        "# Splitting the dataset into the Training set and Test set\n",
        "from sklearn.model_selection import train_test_split\n",
        "X_train, X_test, y_train, y_test = train_test_split(X, y, test_size = 0.20, random_state = 32)\n",
        "#Import svm model\n",
        "from sklearn import svm\n",
        "clf = svm.SVC(kernel='rbf') # rbf Kernel\n",
        "#Train the model using the training sets\n",
        "clf.fit(X_train, y_train)\n",
        "#Predict the response for test dataset\n",
        "y_pred = clf.predict(X_test)\n",
        "print(\"After making the predictions from test data set the predictions are:\")\n",
        "print(y_pred)\n",
        "svm_ac=accuracy_score(y_test, y_pred)*100\n",
        "# Model Accuracy: how often is the classifier correct?\n",
        "print(\"Accuracy:\",svm_ac)\n",
        "cm=confusion_matrix(y_test,y_pred)\n",
        "print(\"Confusion matrix:\")\n",
        "print(cm)\n"
      ],
      "execution_count": 2,
      "outputs": [
        {
          "output_type": "stream",
          "name": "stdout",
          "text": [
            "After making the predictions from test data set the predictions are:\n",
            "[1 1 0 0 1 0 0 0 0 1 0 0 1 0 0 0 1 0 0 0 0 0 0 0 0 0 0 0 0 0 0 1 0 0 0 0 1\n",
            " 0 0 0 1 1 0 1 0 0 1 1 0 1 0 0 0 0 0 0 0 1 1 0 0 0 0 0 1 0 0 0 0 1 0 0 0 0\n",
            " 1 0 0 0 0 0 0 1 0 0 0 0 0 0 0 1 1 0 1 1 0 0 1 1 0 0 0 0 0 0 0 0 0 0 0 0 0\n",
            " 1 0 0 0 1 0 0 0 0 0 0 0 0 0 0 0 0 1 0 0 0 1 0 0 1 0 0 0 0 0 0 1 0 0 1 0 0\n",
            " 0 0 0 0 1 0]\n",
            "Accuracy: 72.07792207792207\n",
            "Confusion matrix:\n",
            "[[85  8]\n",
            " [35 26]]\n"
          ]
        }
      ]
    },
    {
      "cell_type": "markdown",
      "metadata": {
        "id": "AdCAMXIQUB1q"
      },
      "source": [
        "Random forest:"
      ]
    },
    {
      "cell_type": "code",
      "metadata": {
        "colab": {
          "base_uri": "https://localhost:8080/"
        },
        "id": "nRW_gXQtUBfi",
        "outputId": "d21a663a-af5d-4f16-e264-3f3b7b686072"
      },
      "source": [
        "import pandas as pd\n",
        "import numpy as np\n",
        "dataset = pd.read_csv(\"/content/pima-indians-diabetes.csv\")\n",
        "X = dataset.iloc[:, 0:7].values\n",
        "y = dataset.iloc[:, 8].values\n",
        "from sklearn.model_selection import train_test_split\n",
        "X_train, X_test, y_train, y_test = train_test_split(X, y, test_size=0.2, random_state=32)\n",
        "# Feature Scaling\n",
        "from sklearn.preprocessing import StandardScaler\n",
        "sc = StandardScaler()\n",
        "X_train = sc.fit_transform(X_train)\n",
        "X_test = sc.transform(X_test)\n",
        "from sklearn.ensemble import RandomForestClassifier\n",
        "classifier = RandomForestClassifier(n_estimators=100, random_state=0)\n",
        "classifier.fit(X_train, y_train)\n",
        "y_pred = classifier.predict(X_test)\n",
        "print(\"Prediction for test data set will be:\",y_pred)\n",
        "from sklearn.metrics import classification_report, confusion_matrix, accuracy_score\n",
        "rf_ac=accuracy_score(y_test, y_pred)*100\n",
        "print('Confusion matrix:')\n",
        "print(confusion_matrix(y_test,y_pred))\n",
        "print('Classification report:')\n",
        "print(classification_report(y_test,y_pred))\n",
        "print('accuracy:',rf_ac)\n"
      ],
      "execution_count": null,
      "outputs": [
        {
          "output_type": "stream",
          "name": "stdout",
          "text": [
            "Prediction for test data set will be: [1 0 0 0 1 0 0 0 0 1 0 0 1 0 0 0 0 0 0 0 0 0 0 1 0 0 0 0 0 0 0 1 0 0 1 0 1\n",
            " 1 0 0 1 1 0 1 0 0 1 0 1 0 0 1 0 0 0 0 0 1 0 0 0 0 0 0 1 0 0 0 0 0 0 0 0 0\n",
            " 1 0 0 0 0 1 0 1 0 0 0 1 0 0 0 1 1 1 0 1 1 0 1 1 0 0 0 0 0 0 1 0 0 0 0 0 0\n",
            " 0 0 0 0 1 1 0 0 0 0 0 0 0 0 0 1 1 1 0 0 0 1 1 0 1 0 0 0 0 1 0 1 0 0 1 0 0\n",
            " 0 1 0 0 1 0]\n",
            "Confusion matrix:\n",
            "[[79 14]\n",
            " [33 28]]\n",
            "Classification report:\n",
            "              precision    recall  f1-score   support\n",
            "\n",
            "           0       0.71      0.85      0.77        93\n",
            "           1       0.67      0.46      0.54        61\n",
            "\n",
            "    accuracy                           0.69       154\n",
            "   macro avg       0.69      0.65      0.66       154\n",
            "weighted avg       0.69      0.69      0.68       154\n",
            "\n",
            "accuracy: 69.48051948051948\n"
          ]
        }
      ]
    },
    {
      "cell_type": "markdown",
      "metadata": {
        "id": "1aW-wz9KUV04"
      },
      "source": [
        "Decision trees"
      ]
    },
    {
      "cell_type": "code",
      "metadata": {
        "colab": {
          "base_uri": "https://localhost:8080/"
        },
        "id": "7rWV1LtRUVhf",
        "outputId": "a5827a6c-8f19-4aeb-8341-7d4d6b1b8a41"
      },
      "source": [
        "import pandas as pd\n",
        "from sklearn.tree import DecisionTreeClassifier # Import Decision Tree Classifier\n",
        "from sklearn.model_selection import train_test_split # Import train_test_split function\n",
        "from sklearn import metrics #Import scikit-learn metrics module for accuracy calculation\n",
        "dataset = pd.read_csv(\"/content/pima-indians-diabetes.csv\")\n",
        "X = dataset.iloc[:, 0:7].values\n",
        "y = dataset.iloc[:, 8].values\n",
        "from sklearn.model_selection import train_test_split\n",
        "X_train, X_test, y_train, y_test = train_test_split(X, y, test_size=0.2, random_state=32)\n",
        "# Create Decision Tree classifer object\n",
        "clf = DecisionTreeClassifier()\n",
        "# Train Decision Tree Classifer\n",
        "clf = clf.fit(X_train,y_train)\n",
        "#Predict the response for test dataset\n",
        "y_pred = clf.predict(X_test)\n",
        "print(\"Predicted test data is:\",y_pred)\n",
        "dt_ac=metrics.accuracy_score(y_test, y_pred)*100\n",
        "# Model Accuracy, how often is the classifier correct?\n",
        "print(\"Accuracy:\",dt_ac)\n",
        "print(\"Confusion matrix:\")\n",
        "print(metrics.confusion_matrix(y_test, y_pred))"
      ],
      "execution_count": null,
      "outputs": [
        {
          "output_type": "stream",
          "name": "stdout",
          "text": [
            "Predicted test data is: [1 1 0 0 1 1 0 0 0 1 0 0 1 1 0 0 1 0 1 1 1 0 0 1 0 0 0 0 0 1 1 1 0 1 0 1 1\n",
            " 1 0 0 1 1 0 1 0 0 1 0 0 1 0 1 0 1 0 0 0 1 0 1 0 0 0 0 0 0 0 1 1 0 0 0 0 0\n",
            " 1 0 0 1 0 1 0 1 0 0 0 1 0 0 0 0 1 0 1 1 1 0 0 0 0 0 0 1 0 0 1 0 0 0 0 0 0\n",
            " 0 1 0 1 1 0 0 1 0 0 0 0 0 0 0 1 1 1 0 0 1 1 1 0 1 0 0 0 0 0 0 1 1 1 1 0 1\n",
            " 0 0 1 0 0 0]\n",
            "Accuracy: 68.18181818181817\n",
            "Confusion matrix:\n",
            "[[70 23]\n",
            " [26 35]]\n"
          ]
        }
      ]
    },
    {
      "cell_type": "markdown",
      "metadata": {
        "id": "jgwjniHKqKXW"
      },
      "source": [
        "Graph between algoritms and accuracies"
      ]
    },
    {
      "cell_type": "code",
      "metadata": {
        "colab": {
          "base_uri": "https://localhost:8080/",
          "height": 279
        },
        "id": "CZJ_liQdqTdi",
        "outputId": "b9d7f252-2383-48a3-ae20-7340f7f635f8"
      },
      "source": [
        "plt.bar(['Naive Bayes','KNN','SVM','Random Forest','Decision Tree'],[nb_ac,knn_ac,svm_ac,rf_ac,dt_ac,])\n",
        "plt.xlabel(\"Algorithms\")\n",
        "plt.ylabel(\"ACcuracies\")\n",
        "plt.show()"
      ],
      "execution_count": null,
      "outputs": [
        {
          "output_type": "display_data",
          "data": {
            "image/png": "[encoded data removed]",
            "text/plain": [
              "<Figure size 432x288 with 1 Axes>"
            ]
          },
          "metadata": {
            "needs_background": "light"
          }
        }
      ]
    }
  ]
}